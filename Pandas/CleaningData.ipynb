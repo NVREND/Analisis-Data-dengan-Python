{
 "cells": [
  {
   "cell_type": "markdown",
   "metadata": {},
   "source": [
    "creat a student dataset using pandas Dataframe"
   ]
  },
  {
   "cell_type": "code",
   "execution_count": 10,
   "metadata": {},
   "outputs": [
    {
     "name": "stdout",
     "output_type": "stream",
     "text": [
      "  Name  Height  Roll Department    Address\n",
      "0    A     5.2    55        CSE    polashi\n",
      "1    B     5.7    99        EEE     banani\n",
      "2    C     5.6    15        BME   farmgate\n",
      "3    D     5.5    80        CSE     mirpur\n",
      "4    E     5.3     1         ME  dhanmondi\n",
      "5    F     5.8    12         ME   ishwardi\n",
      "6    G     5.6    47         CE     khulna\n",
      "7    H     5.5   104        CSE     uttara\n"
     ]
    }
   ],
   "source": [
    "import numpy as np # linear algebra\n",
    "import pandas as pd # data processing, CSV file I/O\n",
    "\n",
    "data={'Name':['A','B','C','D','E','F','G','H'],\n",
    "      'Height':[5.2,5.7,5.6,5.5,5.3,5.8,5.6,5.5],\n",
    "      'Roll':[55,99,15,80,1,12,47,104],\n",
    "      'Department':['CSE','EEE','BME','CSE','ME','ME','CE','CSE'],\n",
    "      'Address':['polashi','banani','farmgate','mirpur','dhanmondi','ishwardi','khulna','uttara']}\n",
    "df=pd.DataFrame(data)\n",
    "print(df)"
   ]
  },
  {
   "cell_type": "markdown",
   "metadata": {},
   "source": [
    " Here if we want to remove the “Height”\n",
    " column, we can use python pandas.DataFrame.drop to drop specified labels\n",
    " from rows or columns"
   ]
  },
  {
   "cell_type": "code",
   "execution_count": 7,
   "metadata": {},
   "outputs": [
    {
     "name": "stdout",
     "output_type": "stream",
     "text": [
      "  Name  Roll Department    Address\n",
      "0    A    55        CSE    polashi\n",
      "1    B    99        EEE     banani\n",
      "2    C    15        BME   farmgate\n",
      "3    D    80        CSE     mirpur\n",
      "4    E     1         ME  dhanmondi\n"
     ]
    }
   ],
   "source": [
    "df=df.drop(columns='Height')\n",
    "print(df.head())"
   ]
  },
  {
   "cell_type": "code",
   "execution_count": null,
   "metadata": {},
   "outputs": [],
   "source": []
  }
 ],
 "metadata": {
  "kernelspec": {
   "display_name": "Python 3",
   "language": "python",
   "name": "python3"
  },
  "language_info": {
   "codemirror_mode": {
    "name": "ipython",
    "version": 3
   },
   "file_extension": ".py",
   "mimetype": "text/x-python",
   "name": "python",
   "nbconvert_exporter": "python",
   "pygments_lexer": "ipython3",
   "version": "3.9.2"
  }
 },
 "nbformat": 4,
 "nbformat_minor": 2
}
